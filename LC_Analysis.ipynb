{
 "cells": [
  {
   "cell_type": "code",
   "execution_count": 4,
   "metadata": {},
   "outputs": [],
   "source": [
    "#Importing all Dependencies\n",
    "\n",
    "import pandas as pd\n",
    "import numpy as np\n",
    "import glob\n",
    "import os\n",
    "import pandas_profiling as pp\n",
    "import seaborn as sns\n",
    "#sns.set(color_codes=True)\n",
    "import matplotlib.pyplot as plt\n",
    "%matplotlib inline\n",
    "#import csv\n",
    "import warnings\n",
    "warnings.filterwarnings('ignore')\n",
    "import sklearn\n",
    "import scipy\n",
    "#import random\n",
    "#import statsmodels.api as sm\n",
    "# from sklearn.preprocessing import StandardScaler\n",
    "# from sklearn.neighbors import LocalOutlierFactor\n",
    "# from sklearn.covariance import EllipticEnvelope\n",
    "# from sklearn.ensemble import IsolationForest\n",
    "# from sklearn import linear_model\n",
    "# from sklearn.preprocessing import StandardScaler\n",
    "# from sklearn.model_selection import train_test_split\n",
    "# from sklearn.linear_model import LogisticRegression\n",
    "# from sklearn import metrics\n",
    "# from sklearn.decomposition import PCA\n",
    "# from sklearn.ensemble import RandomForestClassifier\n",
    "# from sklearn.model_selection import ParameterGrid\n",
    "# from sklearn.grid_search import GridSearchCV\n",
    "# from sklearn.model_selection import GridSearchCV\n",
    "# from sklearn.ensemble import BaggingClassifier\n",
    "# from sklearn.metrics import classification_report, f1_score, accuracy_score, precision_score, confusion_matrix\n",
    "# from sklearn.pipeline import Pipeline"
   ]
  },
  {
   "cell_type": "code",
   "execution_count": 5,
   "metadata": {},
   "outputs": [],
   "source": [
    "#### Importing the Loan Data of Interest\n",
    "\n",
    "#columns of interest\n",
    "headers = ['issue_d','loan_amnt','open_acc','acc_now_delinq','chargeoff_within_12_mths','delinq_2yrs','inq_last_6mths','num_accts_ever_120_pd','pub_rec','recoveries','grade','dti','annual_inc','dti_joint','annual_inc_joint','revol_bal','revol_bal_joint','debt_settlement_flag','num_actv_bc_tl','emp_length','total_il_high_credit_limit','tax_liens','total_bal_ex_mort','verification_status','verification_status_joint','purpose','revol_util','term']\n",
    "\n",
    "# Compile the files\n",
    "# skip rows that included text or footers\n",
    "filenames = glob.glob(r\"C:\\Users\\BieniekJon\\Desktop\\900\\Mittal\\Lending Club\\Refresh\\Lending_Club_Project\\*.csv\")\n",
    "files = [pd.read_csv(filename, skiprows=1, skipfooter=2, usecols=headers) for filename in filenames]\n",
    "lending_club = pd.concat(files, ignore_index=True)"
   ]
  },
  {
   "cell_type": "code",
   "execution_count": 37,
   "metadata": {},
   "outputs": [
    {
     "data": {
      "text/plain": [
       "['loan_amnt',\n",
       " 'term',\n",
       " 'grade',\n",
       " 'emp_length',\n",
       " 'annual_inc',\n",
       " 'verification_status',\n",
       " 'purpose',\n",
       " 'dti',\n",
       " 'delinq_2yrs',\n",
       " 'inq_last_6mths',\n",
       " 'open_acc',\n",
       " 'pub_rec',\n",
       " 'revol_bal',\n",
       " 'revol_util',\n",
       " 'recoveries',\n",
       " 'annual_inc_joint',\n",
       " 'dti_joint',\n",
       " 'verification_status_joint',\n",
       " 'acc_now_delinq',\n",
       " 'chargeoff_within_12_mths',\n",
       " 'num_accts_ever_120_pd',\n",
       " 'num_actv_bc_tl',\n",
       " 'tax_liens',\n",
       " 'total_bal_ex_mort',\n",
       " 'total_il_high_credit_limit',\n",
       " 'revol_bal_joint',\n",
       " 'debt_settlement_flag',\n",
       " 'time']"
      ]
     },
     "execution_count": 37,
     "metadata": {},
     "output_type": "execute_result"
    }
   ],
   "source": [
    "#### Label each row as 'pre' or 'post' IPO\n",
    "\n",
    "# convert date column to datetime\n",
    "lending_club['issue_d'] = pd.to_datetime(lending_club['issue_d'])\n",
    "\n",
    "# create label column\n",
    "lending_club['time'] = np.where(lending_club['issue_d'].dt.year == 2014, 'pre', 'post')\n",
    "\n",
    "# drop the date column as it creates noise\n",
    "lending_club = lending_club.drop(['issue_d'], axis = 1)"
   ]
  },
  {
   "cell_type": "code",
   "execution_count": 38,
   "metadata": {},
   "outputs": [],
   "source": [
    "#### Featue Engineering\n",
    "\n",
    "# combine columns for like features that were broken into joint and individual\n",
    "lending_club[\"new dti\"] = np.where(lending_club[\"dti_joint\"].isnull(), lending_club[\"dti\"], lending_club[\"dti_joint\"])\n",
    "lending_club[\"new annual_inc\"] = np.where(lending_club[\"annual_inc_joint\"].isnull(), lending_club[\"annual_inc\"] , lending_club[\"annual_inc_joint\"])\n",
    "lending_club[\"new revol_bal\"] = np.where(lending_club[\"revol_bal_joint\"].isnull(), lending_club[\"revol_bal\"] , lending_club[\"revol_bal_joint\"])\n",
    "lending_club['new verification'] =  np.where(lending_club[\"verification_status_joint\"].isnull(), lending_club[\"verification_status\"], lending_club[\"verification_status_joint\"])\n",
    "\n",
    "# convert text columns to numeric\n",
    "lending_club[\"new debt flag\"] = np.where(lending_club[\"debt_settlement_flag\"] == \"N\", 0,1)\n",
    "\n",
    "# combine employment length columns into one\n",
    "lending_club[\"emp_length_new\"] = np.where(lending_club['emp_length']==\"10+ years\", \"10+ years\", \n",
    "                                      np.where(np.isin(lending_club['emp_length'], [\"< 1 year\", \"1 year\",'2 years','3 years','4 years','5 years']), \"1-5 years\", \n",
    "                                               np.where(np.isin(lending_club['emp_length'], ['6 years','7 years','8 years','9 years']), \"6-9 years\", \"n/a\")))\n",
    "# combine purpose of loans columns into one column \n",
    "lending_club[\"new purpose\"] = np.where(lending_club['purpose']==\"debt_consolidation\", \"debt consolidation\", np.where(lending_club['purpose']==\"credit_card\", \"credit card\", \"other\"))\n",
    "\n",
    "# convert loan grades to numeric. A or B = 1, remaining = 0\n",
    "lending_club['new grade'] = np.where(np.isin(lending_club['grade'], [\"A\", \"B\"]), 1 , 0)\n"
   ]
  },
  {
   "cell_type": "code",
   "execution_count": 45,
   "metadata": {},
   "outputs": [
    {
     "data": {
      "text/plain": [
       "(535074, 44)"
      ]
     },
     "execution_count": 45,
     "metadata": {},
     "output_type": "execute_result"
    }
   ],
   "source": [
    "# Creat dummy variables for categorical features\n",
    "cols_to_transform = [ 'emp_length_new', 'new verification', 'term', 'new purpose']\n",
    "\n",
    "lc_dumvar = pd.get_dummies(lending_club,  columns = cols_to_transform, drop_first = False)"
   ]
  },
  {
   "cell_type": "code",
   "execution_count": 49,
   "metadata": {},
   "outputs": [],
   "source": [
    "# remove columns that are no longer needed after condensing in previous step\n",
    "remove = ['emp_length','annual_inc','dti','annual_inc_joint','dti_joint','revol_bal','revol_bal_joint','debt_settlement_flag', 'verification_status','verification_status_joint', 'purpose']\n",
    "\n",
    "lc_fin_col = lc_dumvar.drop(remove, axis='columns')"
   ]
  },
  {
   "cell_type": "code",
   "execution_count": 73,
   "metadata": {},
   "outputs": [],
   "source": [
    "# drop rows with NAs after investgating\n",
    "lc_fin_shape = lc_fin_col.dropna()\n",
    "\n",
    "# reset index\n",
    "lc_fine_struct = lc_fin_shape.reset_index(drop=True)"
   ]
  },
  {
   "cell_type": "code",
   "execution_count": null,
   "metadata": {},
   "outputs": [],
   "source": []
  }
 ],
 "metadata": {
  "kernelspec": {
   "display_name": "Python 3",
   "language": "python",
   "name": "python3"
  },
  "language_info": {
   "codemirror_mode": {
    "name": "ipython",
    "version": 3
   },
   "file_extension": ".py",
   "mimetype": "text/x-python",
   "name": "python",
   "nbconvert_exporter": "python",
   "pygments_lexer": "ipython3",
   "version": "3.7.1"
  }
 },
 "nbformat": 4,
 "nbformat_minor": 2
}
